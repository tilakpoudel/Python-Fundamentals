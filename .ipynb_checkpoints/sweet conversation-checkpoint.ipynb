{
 "cells": [
  {
   "cell_type": "code",
   "execution_count": 3,
   "metadata": {},
   "outputs": [
    {
     "name": "stdout",
     "output_type": "stream",
     "text": [
      "Say Something to the computer ! \n",
      "who are you \n",
      "I am Poudell , created by tilak poudel Your virtual assistance\n"
     ]
    }
   ],
   "source": [
    "words = input(\"Say Something to the computer ! \\n\").lower()\n",
    "\n",
    "if \"hello\" in words:\n",
    "    print(\"Hello to you too... good to see you.\")\n",
    "elif \"who are you \" in words:\n",
    "    print(\"I am Poudell ,Your virtual assistance  created by tilak poudel\")\n",
    "elif \"how are you \" in words:\n",
    "    print(\" I am well , thanks\")\n",
    "else:\n",
    "    print(\"Huh ??\")"
   ]
  },
  {
   "cell_type": "code",
   "execution_count": null,
   "metadata": {},
   "outputs": [],
   "source": []
  }
 ],
 "metadata": {
  "kernelspec": {
   "display_name": "Python 3",
   "language": "python",
   "name": "python3"
  },
  "language_info": {
   "codemirror_mode": {
    "name": "ipython",
    "version": 3
   },
   "file_extension": ".py",
   "mimetype": "text/x-python",
   "name": "python",
   "nbconvert_exporter": "python",
   "pygments_lexer": "ipython3",
   "version": "3.7.6"
  }
 },
 "nbformat": 4,
 "nbformat_minor": 4
}
