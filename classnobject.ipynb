{
 "cells": [
  {
   "cell_type": "code",
   "execution_count": 9,
   "metadata": {},
   "outputs": [
    {
     "name": "stdout",
     "output_type": "stream",
     "text": [
      "Hello world\n",
      "This is a message from inside class.\n",
      "None\n"
     ]
    }
   ],
   "source": [
    "class Myclass:\n",
    "    variable = \"world\"\n",
    "    \n",
    "    def myfunction(self):\n",
    "        print(\"This is a message from inside class.\")\n",
    "myobj1 = Myclass()\n",
    "\n",
    "print(\"Hello %s\" %(myobj1.variable))\n",
    "print(myobj1.myfunction())\n",
    "    "
   ]
  },
  {
   "cell_type": "code",
   "execution_count": null,
   "metadata": {},
   "outputs": [],
   "source": []
  }
 ],
 "metadata": {
  "kernelspec": {
   "display_name": "Python 3",
   "language": "python",
   "name": "python3"
  },
  "language_info": {
   "codemirror_mode": {
    "name": "ipython",
    "version": 3
   },
   "file_extension": ".py",
   "mimetype": "text/x-python",
   "name": "python",
   "nbconvert_exporter": "python",
   "pygments_lexer": "ipython3",
   "version": "3.7.6"
  }
 },
 "nbformat": 4,
 "nbformat_minor": 4
}
